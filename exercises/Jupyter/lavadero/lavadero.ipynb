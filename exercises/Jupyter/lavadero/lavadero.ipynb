{
 "cells": [
  {
   "cell_type": "markdown",
   "metadata": {},
   "source": [
    "# Algoritmos de aprendizaje automático para la detección y/o prevención Fraudes\n",
    "\n",
    "## Projecto Semana i Octubre 2019.\n",
    "\n",
    "\n",
    "#### Gerardo Anglada\n",
    "#### Rodrigo Sibaja\n",
    "#### José Núñez\n",
    "\n",
    "\n",
    "# Contenido\n",
    "\n",
    "Este dataset contiene transacciones hechas por tarjeta de crédito en el mes de septiembre 2013 por tarjetahabientes europeos. Estaremos utilizando datos de un plazo de dos días.\n",
    "\n",
    "\n",
    "## Importaciones\n",
    "\n",
    "Las librerías necesarias para que funcione el programa:"
   ]
  },
  {
   "cell_type": "code",
   "execution_count": 2,
   "metadata": {},
   "outputs": [
    {
     "ename": "ModuleNotFoundError",
     "evalue": "No module named 'imblearn'",
     "output_type": "error",
     "traceback": [
      "\u001b[0;31m---------------------------------------------------------------------------\u001b[0m",
      "\u001b[0;31mModuleNotFoundError\u001b[0m                       Traceback (most recent call last)",
      "\u001b[0;32m<ipython-input-2-89ae897e6dae>\u001b[0m in \u001b[0;36m<module>\u001b[0;34m\u001b[0m\n\u001b[1;32m      4\u001b[0m \u001b[0;32mimport\u001b[0m \u001b[0mpandas\u001b[0m \u001b[0;32mas\u001b[0m \u001b[0mpd\u001b[0m\u001b[0;34m\u001b[0m\u001b[0;34m\u001b[0m\u001b[0m\n\u001b[1;32m      5\u001b[0m \u001b[0;32mimport\u001b[0m \u001b[0mmatplotlib\u001b[0m\u001b[0;34m.\u001b[0m\u001b[0mpyplot\u001b[0m \u001b[0;32mas\u001b[0m \u001b[0mplt\u001b[0m\u001b[0;34m\u001b[0m\u001b[0;34m\u001b[0m\u001b[0m\n\u001b[0;32m----> 6\u001b[0;31m \u001b[0;32mfrom\u001b[0m \u001b[0mimblearn\u001b[0m\u001b[0;34m.\u001b[0m\u001b[0mover_sampling\u001b[0m \u001b[0;32mimport\u001b[0m \u001b[0mSMOTE\u001b[0m\u001b[0;34m\u001b[0m\u001b[0;34m\u001b[0m\u001b[0m\n\u001b[0m\u001b[1;32m      7\u001b[0m \u001b[0;32mimport\u001b[0m \u001b[0mseaborn\u001b[0m \u001b[0;32mas\u001b[0m \u001b[0msns\u001b[0m\u001b[0;34m\u001b[0m\u001b[0;34m\u001b[0m\u001b[0m\n",
      "\u001b[0;31mModuleNotFoundError\u001b[0m: No module named 'imblearn'"
     ]
    }
   ],
   "source": [
    "import os\n",
    "\n",
    "import numpy as np\n",
    "import pandas as pd\n",
    "import matplotlib.pyplot as plt\n",
    "from imblearn.over_sampling import SMOTE\n",
    "import seaborn as sns"
   ]
  },
  {
   "cell_type": "code",
   "execution_count": 5,
   "metadata": {},
   "outputs": [],
   "source": [
    "# Definir la carpeta donde tenemos los dataset y luego cargaremos los datos a analizar\n",
    "\n",
    "# MODIFICAR RUTA A ARCHIVO\n",
    "os.chdir(\"/Users/gerangmac/Desktop/Jupyter/lavadero\")\n",
    "\n",
    "df = pd.read_csv(r'creditcard.csv')"
   ]
  },
  {
   "cell_type": "markdown",
   "metadata": {},
   "source": [
    "### Imprimiremos datos para visualizar nuestro dataset:"
   ]
  },
  {
   "cell_type": "code",
   "execution_count": 6,
   "metadata": {},
   "outputs": [
    {
     "name": "stdout",
     "output_type": "stream",
     "text": [
      "Este dataframe tiene 284807 filas y 31 columnas.\n",
      "\n",
      "            Time        V1        V2        V3        V4        V5        V6  \\\n",
      "120529   75859.0 -1.572170  0.334418 -0.057449 -1.856147  1.389948  3.694756   \n",
      "39897    40014.0 -1.863800 -0.945104 -0.352034 -0.813730  3.567558  2.740789   \n",
      "5833      6309.0 -1.121387 -0.675895  1.997159  2.175228 -1.506406  1.054871   \n",
      "180673  124651.0 -0.535421  0.709337  0.289811 -1.193502  0.285858  0.209886   \n",
      "6948      9029.0 -0.864907  1.282923  2.362263  1.473443  1.235873 -0.570134   \n",
      "\n",
      "              V7        V8        V9  ...       V21       V22       V23  \\\n",
      "120529 -1.202026  1.943936  0.256059  ... -0.091494 -0.593794 -0.115178   \n",
      "39897   0.115665  0.556389 -0.090324  ... -0.431668 -0.369302  1.243692   \n",
      "5833    1.708158 -0.007519  1.147254  ...  0.183512  0.021971  1.206216   \n",
      "180673 -0.082101  0.675981  0.381685  ...  0.064480 -0.003652  0.242427   \n",
      "6948    1.666997 -0.943390  0.302327  ... -0.299083 -0.252069 -0.539502   \n",
      "\n",
      "             V24       V25       V26       V27       V28  Amount  Class  \n",
      "120529  1.073507 -0.129290  0.786552 -0.301881 -0.101320   21.73      0  \n",
      "39897   0.990985 -0.069735  0.110766  0.246882 -0.172804    3.97      0  \n",
      "5833    0.202772 -0.430787 -0.320032 -0.286027 -0.139895  492.04      0  \n",
      "180673  0.155334 -1.377362 -0.947887  0.016223  0.205242    0.12      0  \n",
      "6948    0.322479  0.473318 -0.224046 -0.741623 -0.648296   21.72      0  \n",
      "\n",
      "[5 rows x 31 columns]\n",
      "\n",
      "Identificar si está balanceado [0 = No fraude; 1 = Fraude]\n",
      "0    284315\n",
      "1       492\n",
      "Name: Class, dtype: int64\n",
      "\n"
     ]
    }
   ],
   "source": [
    "# Mostrar la dimensión del dataset\n",
    "print('Este dataframe tiene {} filas y {} columnas.'.format(df.shape[0], df.shape[1]))\n",
    "print()\n",
    "\n",
    "# Mostrar 5 registros del dataset para visualizar\n",
    "print(df.sample(5))\n",
    "print()\n",
    "\n",
    "# Identificar si está balanceado\n",
    "print('Identificar si está balanceado [0 = No fraude; 1 = Fraude]')\n",
    "occ = df['Class'].value_counts()\n",
    "print(occ)\n",
    "print()"
   ]
  },
  {
   "cell_type": "markdown",
   "metadata": {
    "collapsed": true
   },
   "source": [
    "Como aparece previamente:\n",
    "#### 0:     284,315\n",
    "#### 1:      492\n",
    " **NO ESTÁ BALANCEADO**\n",
    "\n"
   ]
  },
  {
   "cell_type": "markdown",
   "metadata": {},
   "source": [
    "## Diagramas para interpretar dataset\n",
    "              [1] Se creará diagrama de dispersión de datos.\n",
    "              [2] Se realizará un remuestreo con la función de SMOTE.\n",
    "              [3] Gráficas para comparar datos original y remuestreados."
   ]
  },
  {
   "cell_type": "code",
   "execution_count": 7,
   "metadata": {},
   "outputs": [
    {
     "name": "stdout",
     "output_type": "stream",
     "text": [
      "Dentro del dataset se encuentran 284315 transacciones no fraudulentas (99.827%) y 492 transacciones fraudulentas (0.173%).\n"
     ]
    },
    {
     "ename": "NameError",
     "evalue": "name 'sns' is not defined",
     "output_type": "error",
     "traceback": [
      "\u001b[0;31m---------------------------------------------------------------------------\u001b[0m",
      "\u001b[0;31mNameError\u001b[0m                                 Traceback (most recent call last)",
      "\u001b[0;32m<ipython-input-7-bb5d65311cd7>\u001b[0m in \u001b[0;36m<module>\u001b[0;34m\u001b[0m\n\u001b[1;32m      7\u001b[0m \u001b[0;34m\u001b[0m\u001b[0m\n\u001b[1;32m      8\u001b[0m \u001b[0mplt\u001b[0m\u001b[0;34m.\u001b[0m\u001b[0mfigure\u001b[0m\u001b[0;34m(\u001b[0m\u001b[0mfigsize\u001b[0m\u001b[0;34m=\u001b[0m\u001b[0;34m(\u001b[0m\u001b[0;36m8\u001b[0m\u001b[0;34m,\u001b[0m\u001b[0;36m6\u001b[0m\u001b[0;34m)\u001b[0m\u001b[0;34m)\u001b[0m\u001b[0;34m\u001b[0m\u001b[0;34m\u001b[0m\u001b[0m\n\u001b[0;32m----> 9\u001b[0;31m \u001b[0msns\u001b[0m\u001b[0;34m.\u001b[0m\u001b[0mbarplot\u001b[0m\u001b[0;34m(\u001b[0m\u001b[0mx\u001b[0m\u001b[0;34m=\u001b[0m\u001b[0mcounts\u001b[0m\u001b[0;34m.\u001b[0m\u001b[0mindex\u001b[0m\u001b[0;34m,\u001b[0m \u001b[0my\u001b[0m\u001b[0;34m=\u001b[0m\u001b[0mcounts\u001b[0m\u001b[0;34m)\u001b[0m\u001b[0;34m\u001b[0m\u001b[0;34m\u001b[0m\u001b[0m\n\u001b[0m\u001b[1;32m     10\u001b[0m \u001b[0mplt\u001b[0m\u001b[0;34m.\u001b[0m\u001b[0mtitle\u001b[0m\u001b[0;34m(\u001b[0m\u001b[0;34m'Transacciones Fraudulentas vs. No Fraudulentas'\u001b[0m\u001b[0;34m)\u001b[0m\u001b[0;34m\u001b[0m\u001b[0;34m\u001b[0m\u001b[0m\n\u001b[1;32m     11\u001b[0m \u001b[0mplt\u001b[0m\u001b[0;34m.\u001b[0m\u001b[0mylabel\u001b[0m\u001b[0;34m(\u001b[0m\u001b[0;34m'Transacciones'\u001b[0m\u001b[0;34m)\u001b[0m\u001b[0;34m\u001b[0m\u001b[0;34m\u001b[0m\u001b[0m\n",
      "\u001b[0;31mNameError\u001b[0m: name 'sns' is not defined"
     ]
    },
    {
     "data": {
      "text/plain": [
       "<Figure size 576x432 with 0 Axes>"
      ]
     },
     "metadata": {},
     "output_type": "display_data"
    }
   ],
   "source": [
    "counts = df.Class.value_counts()\n",
    "normal = counts[0]\n",
    "fraudes = counts[1]\n",
    "porc_normal = (normal/(normal+fraudes))*100\n",
    "porc_fraudes = (fraudes/(normal+fraudes))*100\n",
    "print('Dentro del dataset se encuentran {} transacciones no fraudulentas ({:.3f}%) y {} transacciones fraudulentas ({:.3f}%).'.format(normal, porc_normal, fraudes, porc_fraudes))\n",
    "\n",
    "plt.figure(figsize=(8,6))\n",
    "sns.barplot(x=counts.index, y=counts)\n",
    "plt.title('Transacciones Fraudulentas vs. No Fraudulentas')\n",
    "plt.ylabel('Transacciones')\n",
    "plt.xlabel('(0: No fraude; 1: Fraude)')"
   ]
  },
  {
   "cell_type": "code",
   "execution_count": 5,
   "metadata": {},
   "outputs": [],
   "source": [
    "def plot_data(X, y):\n",
    "    plt.scatter(X[y == 0, 0], X[y == 0, 1], label = \"Class #0\", alpha = 0.5, linewidth = 0.15)\n",
    "    plt.scatter(X[y == 1, 0], X[y == 1, 1], label = \"Class #1\", alpha = 0.5, linewidth = 0.15, c = 'r')\n",
    "    plt.legend()\n",
    "    return plt.show()\n",
    "\n",
    "# Función que crea conjunto de caracteristicas X y etiquetas y\n",
    "def prep_data(df):\n",
    "    X = df.iloc[:, 1:29]\n",
    "    X = np.array(X).astype(np.float)\n",
    "    y = df.iloc[:, 29]\n",
    "    y = np.array(y).astype(np.float)\n",
    "    return X, y\n"
   ]
  },
  {
   "cell_type": "code",
   "execution_count": 6,
   "metadata": {
    "scrolled": true
   },
   "outputs": [
    {
     "data": {
      "image/png": "[encoded data removed]",
      "text/plain": [
       "<Figure size 432x288 with 1 Axes>"
      ]
     },
     "metadata": {
      "needs_background": "light"
     },
     "output_type": "display_data"
    }
   ],
   "source": [
    "# Crear variables X y y\n",
    "X, y = prep_data(df)\n",
    "plot_data(X, y)"
   ]
  },
  {
   "cell_type": "markdown",
   "metadata": {},
   "source": [
    "### Para hacer el remuestreo para balancear, quitaremos una columna que no requerimos."
   ]
  },
  {
   "cell_type": "code",
   "execution_count": 7,
   "metadata": {},
   "outputs": [],
   "source": [
    "df = df.drop(['Amount'], axis = 1)\n",
    "\n",
    "X, y = prep_data(df)"
   ]
  },
  {
   "cell_type": "code",
   "execution_count": 8,
   "metadata": {},
   "outputs": [],
   "source": [
    "# Método de resampling\n",
    "method = SMOTE(kind = 'regular')"
   ]
  },
  {
   "cell_type": "code",
   "execution_count": 9,
   "metadata": {},
   "outputs": [],
   "source": [
    "# Se crean conjuntos de características remuestreadas\n",
    "X_resampled, y_resampled = method.fit_sample(X, y)\n",
    "\n",
    "# Se grafican datos (Más de 5 minutos)\n",
    "# plot_data(X_resampled, y_resampled)"
   ]
  },
  {
   "cell_type": "code",
   "execution_count": 10,
   "metadata": {
    "scrolled": false
   },
   "outputs": [
    {
     "name": "stdout",
     "output_type": "stream",
     "text": [
      "Valores originales de y\n",
      "0.0    284315\n",
      "1.0       492\n",
      "dtype: int64\n",
      "\n",
      "Valores remuestreados de y\n",
      "1.0    284315\n",
      "0.0    284315\n",
      "dtype: int64\n",
      "\n"
     ]
    },
    {
     "data": {
      "image/png": "[encoded data removed]",
      "text/plain": [
       "<Figure size 432x288 with 2 Axes>"
      ]
     },
     "metadata": {
      "needs_background": "light"
     },
     "output_type": "display_data"
    }
   ],
   "source": [
    "def compare_plot(X, y, X_resampled, y_resampled, method):\n",
    "    # Inicia el gráfico plot\n",
    "    f, (ax1, ax2) = plt.subplots(1, 2)\n",
    "    \n",
    "    # Subplot 1, con datos normales\n",
    "    c0 = ax1.scatter(X[y == 0, 0], X[y == 0, 1], label = \"Class #0\", alpha = 0.5)\n",
    "    c1 = ax1.scatter(X[y == 1, 0], X[y == 1, 1], label = \"Class #1\", alpha = 0.5, c = 'r')\n",
    "    ax1.set_title('Set original de Datos')\n",
    "    \n",
    "    # Subplot 2, con datos remuestrados\n",
    "    ax2.scatter(X_resampled[y_resampled == 0, 0], X_resampled[y_resampled == 0, 1], label = \"Class #0\", alpha = 0.5)\n",
    "    ax2.scatter(X_resampled[y_resampled == 1, 0], X_resampled[y_resampled == 1, 1], label = \"Class #1\", alpha = 0.5, c = 'r')\n",
    "    ax2.set_title(method)\n",
    "    \n",
    "    # Se agregan algunos parámetros\n",
    "    plt.figlegend((c0, c1), ('Class #0', 'Class #1'), loc = 'lower center', ncol = 2, labelspacing = 0.1)\n",
    "                  \n",
    "    plt.tight_layout(pad = 3)\n",
    "                  \n",
    "    return plt.show()\n",
    "                     \n",
    "# Imprime el value_counts originales de y.\n",
    "print(\"Valores originales de y\")\n",
    "print(pd.value_counts(pd.Series(y)))\n",
    "print()\n",
    "\n",
    "# Imprime el value_counts remuestreados de y.\n",
    "print(\"Valores remuestreados de y\")\n",
    "print(pd.value_counts(pd.Series(y_resampled)))\n",
    "print()\n",
    "              \n",
    "# Se ejecuta comparación de gráficas.\n",
    "compare_plot(X, y, X_resampled, y_resampled, method = 'SMOTE')\n",
    "\n",
    "# Se obtiene la media de cada grupo.\n",
    "df.groupby('Class').mean()\n",
    "\n",
    "# Se implementa una regla para indicar en que casos se marcará como fraude.\n",
    "df['flag_as_fraud'] = np.where(np.logical_and(df['V1'] < -3, df['V3'] < -5), 1, 0)\n"
   ]
  },
  {
   "cell_type": "markdown",
   "metadata": {},
   "source": [
    "## Datos después del remuestreo."
   ]
  },
  {
   "cell_type": "code",
   "execution_count": 11,
   "metadata": {},
   "outputs": [
    {
     "data": {
      "text/plain": [
       "Text(0.5, 0, '(0: No fraude; 1: Fraude)')"
      ]
     },
     "execution_count": 11,
     "metadata": {},
     "output_type": "execute_result"
    },
    {
     "data": {
      "image/png": "[encoded data removed]",
      "text/plain": [
       "<Figure size 576x432 with 1 Axes>"
      ]
     },
     "metadata": {
      "needs_background": "light"
     },
     "output_type": "display_data"
    }
   ],
   "source": [
    "sub_counts = pd.value_counts(pd.Series(y_resampled))\n",
    "normal = sub_counts[0]\n",
    "fraudes = sub_counts[1]\n",
    "\n",
    "plt.figure(figsize=(8,6))\n",
    "sns.barplot(x=sub_counts.index, y=sub_counts)\n",
    "plt.title('Transacciones Fraudulentas vs. No Fraudulentas')\n",
    "plt.ylabel('Transacciones')\n",
    "plt.xlabel('(0: No fraude; 1: Fraude)')"
   ]
  },
  {
   "cell_type": "markdown",
   "metadata": {},
   "source": [
    "Ahora, creamos una tabla de referencias cruzadas de casos de fraude marcados frente a los casos de fraude reales.\n",
    "Haremos una matriz de confusión.\n",
    "\n",
    "Recordando que previamente se tenían 50 casos marcados como fraude.          "
   ]
  },
  {
   "cell_type": "code",
   "execution_count": 12,
   "metadata": {},
   "outputs": [
    {
     "name": "stdout",
     "output_type": "stream",
     "text": [
      "0    284315\n",
      "1       492\n",
      "Name: Class, dtype: int64\n",
      "\n",
      "Macado como Fraude       0     1\n",
      "Fraude Real                     \n",
      "0                   283089  1226\n",
      "1                      322   170\n"
     ]
    }
   ],
   "source": [
    "occ = df['Class'].value_counts()\n",
    "print(occ)\n",
    "\n",
    "print()\n",
    "print(pd.crosstab(df.Class, df.flag_as_fraud, rownames = ['Fraude Real'], colnames = ['Macado como Fraude']))"
   ]
  },
  {
   "cell_type": "markdown",
   "metadata": {},
   "source": [
    "# Algoritmos de clasificación"
   ]
  },
  {
   "cell_type": "code",
   "execution_count": 13,
   "metadata": {},
   "outputs": [],
   "source": [
    "from sklearn.model_selection import KFold\n",
    "from sklearn.model_selection import cross_val_score\n",
    "from sklearn.model_selection import train_test_split\n",
    "from sklearn.linear_model import LogisticRegression\n",
    "from sklearn.ensemble import RandomForestClassifier\n",
    "from sklearn.metrics import roc_auc_score\n",
    "from sklearn.metrics import confusion_matrix\n",
    "from sklearn.metrics import classification_report\n",
    "from sklearn.tree import DecisionTreeClassifier\n",
    "\n",
    "def warn(*args, **kwargs):\n",
    "    pass\n",
    "import warnings\n",
    "warnings.warn = warn\n",
    "\n",
    "def reports(model, X_test, X_train, y_test, y_train):\n",
    "    model.fit(X_train, y_train)\n",
    "    predicted = model.predict(X_test)\n",
    "    \n",
    "    print('Reporte Clasificación')\n",
    "    print(classification_report(y_test, predicted))\n",
    "    \n",
    "    print('Matriz Confusión')\n",
    "    print(confusion_matrix(y_true = y_test, y_pred = predicted))\n",
    "    print()\n",
    "    \n",
    "# train test split\n",
    "X_train, X_test, y_train, y_test = train_test_split(X, y, test_size=0.5, random_state=42)\n",
    "        "
   ]
  },
  {
   "cell_type": "code",
   "execution_count": 14,
   "metadata": {
    "scrolled": true
   },
   "outputs": [
    {
     "name": "stdout",
     "output_type": "stream",
     "text": [
      "\n",
      "Reg_Log: 96.970% (2.183%)\n",
      "Reporte Clasificación\n",
      "              precision    recall  f1-score   support\n",
      "\n",
      "         0.0       1.00      1.00      1.00    142158\n",
      "         1.0       0.89      0.61      0.72       246\n",
      "\n",
      "    accuracy                           1.00    142404\n",
      "   macro avg       0.95      0.80      0.86    142404\n",
      "weighted avg       1.00      1.00      1.00    142404\n",
      "\n",
      "Matriz Confusión\n",
      "[[142140     18]\n",
      " [    97    149]]\n",
      "\n",
      "\n",
      "Arbol_Dec: 87.277% (3.459%)\n",
      "Reporte Clasificación\n",
      "              precision    recall  f1-score   support\n",
      "\n",
      "         0.0       1.00      1.00      1.00    142158\n",
      "         1.0       0.77      0.75      0.76       246\n",
      "\n",
      "    accuracy                           1.00    142404\n",
      "   macro avg       0.88      0.88      0.88    142404\n",
      "weighted avg       1.00      1.00      1.00    142404\n",
      "\n",
      "Matriz Confusión\n",
      "[[142102     56]\n",
      " [    61    185]]\n",
      "\n"
     ]
    },
    {
     "name": "stderr",
     "output_type": "stream",
     "text": [
      "/Users/gerangair/anaconda3/lib/python3.7/site-packages/sklearn/ensemble/forest.py:245: FutureWarning: The default value of n_estimators will change from 10 in version 0.20 to 100 in 0.22.\n",
      "  \"10 in version 0.20 to 100 in 0.22.\", FutureWarning)\n",
      "/Users/gerangair/anaconda3/lib/python3.7/site-packages/sklearn/ensemble/forest.py:245: FutureWarning: The default value of n_estimators will change from 10 in version 0.20 to 100 in 0.22.\n",
      "  \"10 in version 0.20 to 100 in 0.22.\", FutureWarning)\n",
      "/Users/gerangair/anaconda3/lib/python3.7/site-packages/sklearn/ensemble/forest.py:245: FutureWarning: The default value of n_estimators will change from 10 in version 0.20 to 100 in 0.22.\n",
      "  \"10 in version 0.20 to 100 in 0.22.\", FutureWarning)\n",
      "/Users/gerangair/anaconda3/lib/python3.7/site-packages/sklearn/ensemble/forest.py:245: FutureWarning: The default value of n_estimators will change from 10 in version 0.20 to 100 in 0.22.\n",
      "  \"10 in version 0.20 to 100 in 0.22.\", FutureWarning)\n",
      "/Users/gerangair/anaconda3/lib/python3.7/site-packages/sklearn/ensemble/forest.py:245: FutureWarning: The default value of n_estimators will change from 10 in version 0.20 to 100 in 0.22.\n",
      "  \"10 in version 0.20 to 100 in 0.22.\", FutureWarning)\n",
      "/Users/gerangair/anaconda3/lib/python3.7/site-packages/sklearn/ensemble/forest.py:245: FutureWarning: The default value of n_estimators will change from 10 in version 0.20 to 100 in 0.22.\n",
      "  \"10 in version 0.20 to 100 in 0.22.\", FutureWarning)\n",
      "/Users/gerangair/anaconda3/lib/python3.7/site-packages/sklearn/ensemble/forest.py:245: FutureWarning: The default value of n_estimators will change from 10 in version 0.20 to 100 in 0.22.\n",
      "  \"10 in version 0.20 to 100 in 0.22.\", FutureWarning)\n",
      "/Users/gerangair/anaconda3/lib/python3.7/site-packages/sklearn/ensemble/forest.py:245: FutureWarning: The default value of n_estimators will change from 10 in version 0.20 to 100 in 0.22.\n",
      "  \"10 in version 0.20 to 100 in 0.22.\", FutureWarning)\n",
      "/Users/gerangair/anaconda3/lib/python3.7/site-packages/sklearn/ensemble/forest.py:245: FutureWarning: The default value of n_estimators will change from 10 in version 0.20 to 100 in 0.22.\n",
      "  \"10 in version 0.20 to 100 in 0.22.\", FutureWarning)\n",
      "/Users/gerangair/anaconda3/lib/python3.7/site-packages/sklearn/ensemble/forest.py:245: FutureWarning: The default value of n_estimators will change from 10 in version 0.20 to 100 in 0.22.\n",
      "  \"10 in version 0.20 to 100 in 0.22.\", FutureWarning)\n"
     ]
    },
    {
     "name": "stdout",
     "output_type": "stream",
     "text": [
      "\n",
      "Bosque_Al: 92.653% (3.434%)\n"
     ]
    },
    {
     "name": "stderr",
     "output_type": "stream",
     "text": [
      "/Users/gerangair/anaconda3/lib/python3.7/site-packages/sklearn/ensemble/forest.py:245: FutureWarning: The default value of n_estimators will change from 10 in version 0.20 to 100 in 0.22.\n",
      "  \"10 in version 0.20 to 100 in 0.22.\", FutureWarning)\n"
     ]
    },
    {
     "name": "stdout",
     "output_type": "stream",
     "text": [
      "Reporte Clasificación\n",
      "              precision    recall  f1-score   support\n",
      "\n",
      "         0.0       1.00      1.00      1.00    142158\n",
      "         1.0       0.95      0.76      0.84       246\n",
      "\n",
      "    accuracy                           1.00    142404\n",
      "   macro avg       0.97      0.88      0.92    142404\n",
      "weighted avg       1.00      1.00      1.00    142404\n",
      "\n",
      "Matriz Confusión\n",
      "[[142148     10]\n",
      " [    60    186]]\n",
      "\n"
     ]
    }
   ],
   "source": [
    "models = []\n",
    "models.append(('Reg_Log', LogisticRegression()))\n",
    "models.append(('Arbol_Dec', DecisionTreeClassifier()))\n",
    "models.append(('Bosque_Al', RandomForestClassifier()))\n",
    "\n",
    "# probando modelos\n",
    "results = []\n",
    "names = []\n",
    "\n",
    "for name, model in models:\n",
    "    kfold = KFold(n_splits=10, random_state=42)\n",
    "    cv_results = cross_val_score(model, X_train, y_train, cv=kfold, scoring='roc_auc')\n",
    "    results.append(cv_results)\n",
    "    names.append(name)\n",
    "    print()\n",
    "    print('{}: {:2.3%} ({:2.3%})'.format(name, cv_results.mean(), cv_results.std()))\n",
    "    reports(model, X_test, X_train, y_test, y_train)\n"
   ]
  },
  {
   "cell_type": "code",
   "execution_count": 15,
   "metadata": {},
   "outputs": [
    {
     "data": {
      "image/png": "[encoded data removed]",
      "text/plain": [
       "<Figure size 864x720 with 1 Axes>"
      ]
     },
     "metadata": {
      "needs_background": "light"
     },
     "output_type": "display_data"
    }
   ],
   "source": [
    "fig = plt.figure(figsize=(12,10))\n",
    "plt.title('Comparación Algoritmos Entrenamiento')\n",
    "plt.xlabel('Algoritmo')\n",
    "plt.ylabel('ROC-AUC')\n",
    "plt.boxplot(results)\n",
    "ax = fig.add_subplot(111)\n",
    "ax.set_xticklabels(names)\n",
    "plt.show()"
   ]
  },
  {
   "cell_type": "code",
   "execution_count": null,
   "metadata": {},
   "outputs": [],
   "source": []
  }
 ],
 "metadata": {
  "kernelspec": {
   "display_name": "Python 3",
   "language": "python",
   "name": "python3"
  },
  "language_info": {
   "codemirror_mode": {
    "name": "ipython",
    "version": 3
   },
   "file_extension": ".py",
   "mimetype": "text/x-python",
   "name": "python",
   "nbconvert_exporter": "python",
   "pygments_lexer": "ipython3",
   "version": "3.8.3"
  }
 },
 "nbformat": 4,
 "nbformat_minor": 2
}
