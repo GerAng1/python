{
 "cells": [
  {
   "cell_type": "markdown",
   "id": "df1c12e7",
   "metadata": {},
   "source": [
    "# Sesión 1 Data Science - 26/Oct/2021\n",
    "#### Gerardo Anglada de Landa || A01021917"
   ]
  },
  {
   "cell_type": "code",
   "execution_count": 3,
   "id": "bd274b99",
   "metadata": {},
   "outputs": [],
   "source": [
    "# importaciones\n",
    "import numpy as np\n",
    "import pandas as pd\n",
    "import math\n",
    "import statistics"
   ]
  },
  {
   "cell_type": "code",
   "execution_count": 11,
   "id": "21f8c815",
   "metadata": {},
   "outputs": [
    {
     "name": "stdout",
     "output_type": "stream",
     "text": [
      "False\n"
     ]
    }
   ],
   "source": [
    "a = True\n",
    "b = 13\n",
    "c = False\n",
    "\n",
    "print(c)"
   ]
  },
  {
   "cell_type": "code",
   "execution_count": 20,
   "id": "2105d79f",
   "metadata": {},
   "outputs": [
    {
     "data": {
      "text/plain": [
       "25"
      ]
     },
     "execution_count": 20,
     "metadata": {},
     "output_type": "execute_result"
    }
   ],
   "source": [
    "pow(5,2)"
   ]
  },
  {
   "cell_type": "code",
   "execution_count": 34,
   "id": "0c7c971a",
   "metadata": {},
   "outputs": [
    {
     "data": {
      "text/plain": [
       "0"
      ]
     },
     "execution_count": 34,
     "metadata": {},
     "output_type": "execute_result"
    }
   ],
   "source": [
    "round(.1+.1+.1)"
   ]
  },
  {
   "cell_type": "code",
   "execution_count": null,
   "id": "cbf36331",
   "metadata": {},
   "outputs": [],
   "source": []
  }
 ],
 "metadata": {
  "kernelspec": {
   "display_name": "Python 3",
   "language": "python",
   "name": "python3"
  },
  "language_info": {
   "codemirror_mode": {
    "name": "ipython",
    "version": 3
   },
   "file_extension": ".py",
   "mimetype": "text/x-python",
   "name": "python",
   "nbconvert_exporter": "python",
   "pygments_lexer": "ipython3",
   "version": "3.8.8"
  }
 },
 "nbformat": 4,
 "nbformat_minor": 5
}
